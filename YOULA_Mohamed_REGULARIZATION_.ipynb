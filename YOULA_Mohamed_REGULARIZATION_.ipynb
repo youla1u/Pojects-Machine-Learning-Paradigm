{
  "nbformat": 4,
  "nbformat_minor": 0,
  "metadata": {
    "colab": {
      "name": "YOULA Mohamed_REGULARIZATION .ipynb",
      "provenance": []
    },
    "kernelspec": {
      "name": "python3",
      "display_name": "Python 3"
    }
  },
  "cells": [
    {
      "cell_type": "markdown",
      "metadata": {
        "id": "bfwfTqNdrFGJ"
      },
      "source": [
        "IMPORTATION DES LIBRARY"
      ]
    },
    {
      "cell_type": "code",
      "metadata": {
        "id": "5RHrD2eGq3Wf"
      },
      "source": [
        "import numpy as np\r\n",
        "from scipy.stats import multivariate_normal\r\n",
        "from numpy.linalg import inv\r\n",
        "from sklearn.model_selection import train_test_split\r\n",
        "import matplotlib.pyplot as plt\r\n",
        "from sklearn.model_selection import ShuffleSplit"
      ],
      "execution_count": 10,
      "outputs": []
    },
    {
      "cell_type": "markdown",
      "metadata": {
        "id": "yTiu66narbkd"
      },
      "source": [
        "GENETRATION DU JEUX DE DONNNEES INITIAL"
      ]
    },
    {
      "cell_type": "code",
      "metadata": {
        "id": "h0vxcVFKrcad"
      },
      "source": [
        "n = 10 # Nombre de ligne \r\n",
        "d = 2  # Nombre de colonne\r\n",
        "b = 2\r\n",
        "X=np.random.uniform(-4, 4, size=(n, d)) # Matrce des variable\r\n",
        "target_normal = multivariate_normal(mean=np.random.normal(size=d), cov=np.eye(d))\r\n",
        "y =target_normal.pdf(X) # variable à prédire\r\n"
      ],
      "execution_count": 2,
      "outputs": []
    },
    {
      "cell_type": "markdown",
      "metadata": {
        "id": "2OZRmervsG-q"
      },
      "source": [
        "TROUVONS LA MATICE A CONSTRUIRE AVEC LE KERNEL GAUSSIEN "
      ]
    },
    {
      "cell_type": "code",
      "metadata": {
        "colab": {
          "base_uri": "https://localhost:8080/"
        },
        "id": "-7dFZ6bOsHe8",
        "outputId": "d5927b48-dd62-4823-c51e-b5b220c4b99d"
      },
      "source": [
        "def compute_sigmasq(X): \r\n",
        "    xcross = np.dot(X, X.T)\r\n",
        "    xnorms = np.repeat(np.diag(np.dot(X, X.T)).reshape(1, -1), np.size(X, axis=0), axis=0)\r\n",
        "    return(np.median(xnorms - 2*xcross + xnorms.T))\r\n",
        "sigmasq = compute_sigmasq(X)\r\n",
        "\r\n",
        "def rbf(centroid):    \r\n",
        "    def rbfdot(x):\r\n",
        "        return(np.exp(-np.sum((x - centroid)**2) / sigmasq))\r\n",
        "    return(rbfdot)\r\n",
        "\r\n",
        "n_centroids=2 \r\n",
        "def get_centroids(X, n_centroids):\r\n",
        "    idx = np.random.randint(np.size(X, axis=0), size=n_centroids)\r\n",
        "    return(X[idx, :])\r\n",
        "    \r\n",
        "centroids=get_centroids(X, n_centroids)    \r\n",
        "\r\n",
        "def compute_phiX(X, centroids):\r\n",
        "    rbfs = [rbf(centroid) for centroid in centroids]\r\n",
        "    list_columns = list(map(lambda f: np.apply_along_axis(f, 1, X), rbfs))\r\n",
        "    list_columns.insert(0, np.repeat(1, np.size(X, axis=0)))\r\n",
        "    phiX = np.column_stack(list_columns)\r\n",
        "    return(phiX)\r\n",
        "phi=compute_phiX(X, centroids)\r\n",
        "phi"
      ],
      "execution_count": 15,
      "outputs": [
        {
          "output_type": "execute_result",
          "data": {
            "text/plain": [
              "array([[1.        , 0.06595559, 0.13442788],\n",
              "       [1.        , 0.07689586, 0.36497385],\n",
              "       [1.        , 0.69254664, 1.        ],\n",
              "       [1.        , 1.        , 0.69254664],\n",
              "       [1.        , 0.88297791, 0.67987342],\n",
              "       [1.        , 0.97969746, 0.60832233],\n",
              "       [1.        , 0.73092043, 0.46263853],\n",
              "       [1.        , 0.32405652, 0.80078948],\n",
              "       [1.        , 0.19999934, 0.40313312],\n",
              "       [1.        , 0.12441624, 0.4741835 ]])"
            ]
          },
          "metadata": {
            "tags": []
          },
          "execution_count": 15
        }
      ]
    },
    {
      "cell_type": "markdown",
      "metadata": {
        "id": "5Ruuw352sbzy"
      },
      "source": [
        "EVALUATION DU MODEL EN FONTION DES DIFFERENTES VALEURS DU PARAMETRE DE REGULARISATION "
      ]
    },
    {
      "cell_type": "code",
      "metadata": {
        "colab": {
          "base_uri": "https://localhost:8080/",
          "height": 293
        },
        "id": "U-3wYDK1scQs",
        "outputId": "c3f06c28-2afc-435f-8b4e-5583337c1803"
      },
      "source": [
        "phiX_train, phiX_test, y_train, y_test = train_test_split(phi,y, test_size=0.02, random_state=42) \r\n",
        "reg_coefs=[i/100 for i in range(100) ]\r\n",
        "def reg_coef_evaluation_RBF(reg_coefs,phiX_train,y_train,phiX_test,y_test):\r\n",
        "    liste=[]\r\n",
        "    for coef in reg_coefs:\r\n",
        "        w = np.dot(inv(np.dot(phiX_train.T, phiX_train) + coef*np.eye(n_centroids+1)),np.dot(phiX_train.T,y_train))\r\n",
        "        y_test_pred=np.dot(phiX_test, w)\r\n",
        "        MSE=sum((y_test_pred-y_test)**2)/len(y_test_pred)\r\n",
        "        liste.append(MSE)\r\n",
        "    return liste\r\n",
        "Eval_1=reg_coef_evaluation_RBF(reg_coefs,phiX_train,y_train,phiX_test,y_test)\r\n",
        "plt.plot(reg_coefs,Eval_1)"
      ],
      "execution_count": 8,
      "outputs": [
        {
          "output_type": "execute_result",
          "data": {
            "text/plain": [
              "[<matplotlib.lines.Line2D at 0x7f11078e8780>]"
            ]
          },
          "metadata": {
            "tags": []
          },
          "execution_count": 8
        },
        {
          "output_type": "display_data",
          "data": {
            "image/png": "[encoded data removed]",
            "text/plain": [
              "<Figure size 432x288 with 1 Axes>"
            ]
          },
          "metadata": {
            "tags": [],
            "needs_background": "light"
          }
        }
      ]
    },
    {
      "cell_type": "markdown",
      "metadata": {
        "id": "v8hZ8X98s2_a"
      },
      "source": [
        "UTILISATION DE LA ALIDATION CROISER POUR EVALUER PLUS ROBUSTEMENT LES VALEURS DU PARAMETRE DE REGULARISATION"
      ]
    },
    {
      "cell_type": "code",
      "metadata": {
        "colab": {
          "base_uri": "https://localhost:8080/",
          "height": 282
        },
        "id": "269RGYOUs3Zk",
        "outputId": "79852a61-66ec-4852-8990-e67e1bc7fa7f"
      },
      "source": [
        "def reg_coef_evaluation_RBF_cv(reg_coefs,phiX_train,y_train,phiX_test,y_test):\r\n",
        "        w = np.dot(inv(np.dot(phiX_train.T, phiX_train) + reg_coefs*np.eye(n_centroids+1)),np.dot(phiX_train.T,y_train))\r\n",
        "        y_test_pred=np.dot(phiX_test, w)\r\n",
        "        MSE=sum((y_test_pred-y_test)**2)/len(y_test_pred)\r\n",
        "        return MSE\r\n",
        "\r\n",
        "def CV_select_best_lambda(phiX_train,y_train,reg_coefs,k_fold):\r\n",
        "    D=np.c_[phiX_train,y_train]  \r\n",
        "    ss = ShuffleSplit(n_splits=k_fold, test_size=0.20, random_state=0)\r\n",
        "    L=[]\r\n",
        "    for lambdaa in reg_coefs:  \r\n",
        "        s=0\r\n",
        "        for train_index, test_index in ss.split(D):\r\n",
        "            D_train,D_test = D[train_index,],D[test_index,]\r\n",
        "            X_train, Y_Train = D_train[:,:-1], D_train[:,-1]\r\n",
        "            X_test, Y_test = D_test[:,:-1], D_test[:,-1]    \r\n",
        "            s=s+reg_coef_evaluation_RBF_cv(lambdaa,X_train,Y_Train,X_test, Y_test)    \r\n",
        "        L.append(s/k_fold)    \r\n",
        "    return L \r\n",
        "\r\n",
        "k_fold=5\r\n",
        "reg_coefs=[i/100 for i in range(1000) ]\r\n",
        "Eval_1=CV_select_best_lambda(phiX_train,y_train,reg_coefs,k_fold)\r\n",
        "plt.plot(reg_coefs,Eval_1)"
      ],
      "execution_count": 11,
      "outputs": [
        {
          "output_type": "execute_result",
          "data": {
            "text/plain": [
              "[0.0, 0.0014759622694467483]"
            ]
          },
          "metadata": {
            "tags": []
          },
          "execution_count": 11
        },
        {
          "output_type": "display_data",
          "data": {
            "image/png": "[encoded data removed]",
            "text/plain": [
              "<Figure size 432x288 with 1 Axes>"
            ]
          },
          "metadata": {
            "tags": [],
            "needs_background": "light"
          }
        }
      ]
    },
    {
      "cell_type": "markdown",
      "metadata": {
        "id": "GFxd97HQtbET"
      },
      "source": [
        "lE RESULTAT CI-DESOUS NOUS MOTRE QUE SI LE PARAMETRE EST EGALE A 0 ON TOMBE DE LE CAS DE LA REGRESSION LINEAIRE SIMPLE QUI NOUS FOURNI LA PLUS GRANDE EURREU ? COMME ON LE VOIT SUR LA FIGURE CI-DESSU L'Eurre DEVIENT PLUS PETTITE LORSQUE LE PARRAMETTRE AUGMENTE.    "
      ]
    },
    {
      "cell_type": "code",
      "metadata": {
        "colab": {
          "base_uri": "https://localhost:8080/"
        },
        "id": "fIj74-TNtbUo",
        "outputId": "f7912590-6ea8-4eb4-bd25-4445cbe6f4be"
      },
      "source": [
        "index =Eval_1.index(min(Eval_1))\r\n",
        "index_2 =Eval_1.index(max(Eval_1))\r\n",
        "print([reg_coefs[index_2],max(Eval_1)]) # la valeur du parametre pour laquelle l'eurr est plus grande  \r\n",
        "print([reg_coefs[index],min(Eval_1)]) # la valeur du parametre pour laquelle l'eurr est plus petite  "
      ],
      "execution_count": 13,
      "outputs": [
        {
          "output_type": "stream",
          "text": [
            "[0.0, 0.0014759622694467483]\n",
            "[9.99, 8.176029393463257e-06]\n"
          ],
          "name": "stdout"
        }
      ]
    },
    {
      "cell_type": "markdown",
      "metadata": {
        "id": "72itc69judqi"
      },
      "source": [
        "TRAVAILLONS MAINTEMANT SUR LE CAS POLYNOMIALE"
      ]
    },
    {
      "cell_type": "code",
      "metadata": {
        "colab": {
          "base_uri": "https://localhost:8080/"
        },
        "id": "Ex1gZ2AIueCR",
        "outputId": "03196673-7d6a-423e-ec71-8b9ccd96b295"
      },
      "source": [
        "# Ici nous construisons une fonction polynome de la forme: têta0 + têta1*xi + têta2*xi^2 + .......+ têta2*xi^p\r\n",
        "# dans notre cas xi est la première colone du jeux de données iitiale et p vaut 3(le dégré du polynome)   \r\n",
        "def Polynomiale(X,col,degre_vj):\r\n",
        "    V=np.zeros((X.shape[0],degre_vj))\r\n",
        "    for i in range(0,degre_vj):\r\n",
        "        p=X[:,col]\r\n",
        "        V[:,i]=np.power(p,i+1)\r\n",
        "    return V    \r\n",
        "X_poly=Polynomiale(X,0,4) \r\n",
        "X_poly      "
      ],
      "execution_count": 27,
      "outputs": [
        {
          "output_type": "execute_result",
          "data": {
            "text/plain": [
              "array([[ 3.54098942e+00,  1.25386061e+01,  4.43990713e+01,\n",
              "         1.57216642e+02],\n",
              "       [ 2.18820631e+00,  4.78824687e+00,  1.04776720e+01,\n",
              "         2.29273081e+01],\n",
              "       [-1.22771682e+00,  1.50728860e+00, -1.85052358e+00,\n",
              "         2.27191893e+00],\n",
              "       [-2.96673529e+00,  8.80151828e+00, -2.61117749e+01,\n",
              "         7.74667241e+01],\n",
              "       [-3.68941624e+00,  1.36117922e+01, -5.02195672e+01,\n",
              "         1.85280887e+02],\n",
              "       [-2.90786694e+00,  8.45569013e+00, -2.45880218e+01,\n",
              "         7.14986956e+01],\n",
              "       [-1.59902973e+00,  2.55689609e+00, -4.08855287e+00,\n",
              "         6.53771760e+00],\n",
              "       [-4.12715143e-01,  1.70333789e-01, -7.02993340e-02,\n",
              "         2.90135997e-02],\n",
              "       [ 2.16115217e+00,  4.67057870e+00,  1.00938313e+01,\n",
              "         2.18143054e+01],\n",
              "       [ 1.99294575e+00,  3.97183277e+00,  7.91564723e+00,\n",
              "         1.57754555e+01]])"
            ]
          },
          "metadata": {
            "tags": []
          },
          "execution_count": 27
        }
      ]
    },
    {
      "cell_type": "markdown",
      "metadata": {
        "id": "Lsp_30phu_At"
      },
      "source": [
        "EVALUATION DU MODEL EN FONTION DES DIFFERENTES VALEURS DU PARAMETRE DE REGULARISATION"
      ]
    },
    {
      "cell_type": "code",
      "metadata": {
        "colab": {
          "base_uri": "https://localhost:8080/",
          "height": 293
        },
        "id": "_Q7cbTDMu_uG",
        "outputId": "d92333e1-b3cb-42ce-ee8e-3664cfd6267e"
      },
      "source": [
        "X_poly_train, X_poly_test, y_train, y_test = train_test_split( X_poly,y, test_size=0.02, random_state=42) \r\n",
        "reg_coefs=[i/100 for i in range(1000) ]\r\n",
        "def reg_coef_evaluation_poly(reg_coefs,phiX_train,y_train,phiX_test,y_test):\r\n",
        "    liste=[]\r\n",
        "    for coef in reg_coefs:\r\n",
        "        w = np.dot(inv(np.dot(phiX_train.T, phiX_train) + coef*np.eye(phiX_train.shape[1])),np.dot(phiX_train.T,y_train))\r\n",
        "        y_test_pred=np.dot(phiX_test, w)\r\n",
        "        MSE=sum((y_test_pred-y_test)**2)/len(y_test_pred)\r\n",
        "        liste.append(MSE)\r\n",
        "    return liste\r\n",
        "Eval_2=reg_coef_evaluation_poly(reg_coefs,X_poly_train,y_train,X_poly_test,y_test)\r\n",
        "plt.plot(reg_coefs,Eval_2)"
      ],
      "execution_count": 28,
      "outputs": [
        {
          "output_type": "execute_result",
          "data": {
            "text/plain": [
              "[<matplotlib.lines.Line2D at 0x7f110700cbe0>]"
            ]
          },
          "metadata": {
            "tags": []
          },
          "execution_count": 28
        },
        {
          "output_type": "display_data",
          "data": {
            "image/png": "[encoded data removed]",
            "text/plain": [
              "<Figure size 432x288 with 1 Axes>"
            ]
          },
          "metadata": {
            "tags": [],
            "needs_background": "light"
          }
        }
      ]
    },
    {
      "cell_type": "markdown",
      "metadata": {
        "id": "TViaO__AvLpE"
      },
      "source": [
        "UTILISATION DE LA ALIDATION CROISER POUR EVALUER PLUS ROBUSTEMENT LES VALEURS DU PARAMETRE DE REGULARISATION"
      ]
    },
    {
      "cell_type": "code",
      "metadata": {
        "colab": {
          "base_uri": "https://localhost:8080/",
          "height": 293
        },
        "id": "EFy_sRDsvMEK",
        "outputId": "39d11643-c4cd-41bc-b5a0-4a9a0af916e6"
      },
      "source": [
        "def reg_coef_evaluation_poly_cv(reg_coefs,phiX_train,y_train,phiX_test,y_test):\r\n",
        "        w = np.dot(inv(np.dot(phiX_train.T, phiX_train) + reg_coefs*np.eye(phiX_train.shape[1])),np.dot(phiX_train.T,y_train))\r\n",
        "        y_test_pred=np.dot(phiX_test, w)\r\n",
        "        MSE=sum((y_test_pred-y_test)**2)/len(y_test_pred)\r\n",
        "        return MSE\r\n",
        "def CV_select_best_lambda(X_poly_train,y_train,reg_coefs,k_fold):\r\n",
        "    D=np.c_[X_poly_train,y_train]  \r\n",
        "    ss = ShuffleSplit(n_splits=k_fold, test_size=0.20, random_state=0)\r\n",
        "    L=[]\r\n",
        "    for lambdaa in reg_coefs:  \r\n",
        "        s=0\r\n",
        "        for train_index, test_index in ss.split(D):\r\n",
        "            D_train,D_test = D[train_index,],D[test_index,]\r\n",
        "            X_train, Y_Train = D_train[:,:-1], D_train[:,-1]\r\n",
        "            X_test, Y_test = D_test[:,:-1], D_test[:,-1]    \r\n",
        "            s=s+reg_coef_evaluation_poly_cv(lambdaa,X_train,Y_Train,X_test,Y_test)    \r\n",
        "        L.append(s/k_fold)    \r\n",
        "    return L \r\n",
        "k_fold=5\r\n",
        "reg_coefs=[i/100 for i in range(1000) ]\r\n",
        "Eval_3=CV_select_best_lambda(X_poly_train,y_train,reg_coefs,k_fold)\r\n",
        "plt.plot(reg_coefs,Eval_2)"
      ],
      "execution_count": 29,
      "outputs": [
        {
          "output_type": "execute_result",
          "data": {
            "text/plain": [
              "[<matplotlib.lines.Line2D at 0x7f1106feba90>]"
            ]
          },
          "metadata": {
            "tags": []
          },
          "execution_count": 29
        },
        {
          "output_type": "display_data",
          "data": {
            "image/png": "[encoded data removed]",
            "text/plain": [
              "<Figure size 432x288 with 1 Axes>"
            ]
          },
          "metadata": {
            "tags": [],
            "needs_background": "light"
          }
        }
      ]
    },
    {
      "cell_type": "markdown",
      "metadata": {
        "id": "8ooCEkRbvfO_"
      },
      "source": [
        "lE RESULTAT CI-DESOUS NOUS MOTRE QUE SI LE PARAMETRE EST EGALE A 0 ON TOMBE DE LE CAS DE LA REGRESSION LINEAIRE SIMPLE QUI NOUS FOURNI LA PLUS GRANDE EURREU ? COMME ON LE VOIT SUR LA FIGURE CI-DESSU L'Eurre DEVIENT PLUS PETTITE LORSQUE LE PARRAMETTRE AUGMENTE."
      ]
    },
    {
      "cell_type": "code",
      "metadata": {
        "colab": {
          "base_uri": "https://localhost:8080/"
        },
        "id": "pfR30FOOvfeL",
        "outputId": "1b99adb7-a865-426e-c92e-dfbf90363aef"
      },
      "source": [
        "index =Eval_3.index(min(Eval_3))\r\n",
        "index_2 =Eval_3.index(max(Eval_3))\r\n",
        "print([reg_coefs[index_2],max(Eval_3)]) # la valeur du parametre pour laquelle l'eurr est plus grande  \r\n",
        "print([reg_coefs[index],min(Eval_3)]) # la valeur du parametre pour laquelle l'eurr est plus petite"
      ],
      "execution_count": 30,
      "outputs": [
        {
          "output_type": "stream",
          "text": [
            "[0.0, 0.019375687445566385]\n",
            "[9.99, 0.0011381899184205449]\n"
          ],
          "name": "stdout"
        }
      ]
    }
  ]
}